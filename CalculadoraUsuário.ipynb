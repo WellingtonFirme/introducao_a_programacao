{
  "nbformat": 4,
  "nbformat_minor": 0,
  "metadata": {
    "colab": {
      "provenance": [],
      "authorship_tag": "ABX9TyPHpsICeGxTCrCqL5GS0wpK",
      "include_colab_link": true
    },
    "kernelspec": {
      "name": "python3",
      "display_name": "Python 3"
    },
    "language_info": {
      "name": "python"
    }
  },
  "cells": [
    {
      "cell_type": "markdown",
      "metadata": {
        "id": "view-in-github",
        "colab_type": "text"
      },
      "source": [
        "<a href=\"https://colab.research.google.com/github/WellingtonFirme/introducao_a_programacao/blob/main/CalculadoraUsu%C3%A1rio.ipynb\" target=\"_parent\"><img src=\"https://colab.research.google.com/assets/colab-badge.svg\" alt=\"Open In Colab\"/></a>"
      ]
    },
    {
      "cell_type": "markdown",
      "source": [
        "Faça uma função calculadora que os números e as operações serão feitas pelo usuário. O código deve ficar rodando infinitamente até que o usuário escolha a opção de sair. No início, o programa mostrará a seguinte lista de operações:\n",
        "\n",
        "1: Soma\n",
        "2: Subtração\n",
        "3: Multiplicação\n",
        "4: Divisão\n",
        "0: Sair\n",
        "\n",
        "Digite o número para a operação correspondente e caso o usuário introduza qualquer outro, o sistema deve mostrar a mensagem “Essa opção não existe” e voltar ao menu de opções.\n",
        "\n",
        "Após a seleção, o sistema deve pedir para o usuário inserir o primeiro e segundo valor, um de cada. Depois precisa executar a operação e mostrar o resultado na tela. Quando o usuário escolher a opção “Sair”, o sistema irá parar.\n",
        "\n",
        "É necessário que o sistema mostre as opções sempre que finalizar uma operação e mostrar o resultado."
      ],
      "metadata": {
        "id": "FYZ1RTwkE_T4"
      }
    },
    {
      "cell_type": "code",
      "source": [
        "#Calculadora\n",
        "while True:\n",
        "  print(\" 1: Soma:\\n 2: Subtração:\\n 3: Multiplicação:\\n 4: Divisão:\\n 0: Sair: \")\n",
        "  opcao = int(input(\"Escolha a operação desejada: \"))\n",
        "\n",
        "  if opcao == 0:\n",
        "    break\n",
        "  elif opcao > 4 or opcao < 0:\n",
        "    print(\"Essa opção não existe\")\n",
        "  else:\n",
        "    num1 = float(input(\"Digite o primeiro valor: \"))\n",
        "    num2 = float(input(\"Digite o segundo valor: \"))\n",
        "    if opcao == 1:\n",
        "      resultado = num1 + num2\n",
        "    elif opcao == 2:\n",
        "      resultado = num1 - num2\n",
        "    elif opcao == 3:\n",
        "      resultado = num1 * num2\n",
        "    elif opcao == 4:\n",
        "      resultado = num1 / num2\n",
        "    else:\n",
        "        print(\"Essa opção não existe.\\n\")\n",
        "\n",
        "    print(\"Resultado é: \" , resultado)"
      ],
      "metadata": {
        "colab": {
          "base_uri": "https://localhost:8080/"
        },
        "id": "_fXzxfZgpN_0",
        "outputId": "f0ca7eb2-f6c5-46c5-b7e2-6b5b99c4d955"
      },
      "execution_count": 61,
      "outputs": [
        {
          "name": "stdout",
          "output_type": "stream",
          "text": [
            " 1: Soma:\n",
            " 2: Subtração:\n",
            " 3: Multiplicação:\n",
            " 4: Divisão:\n",
            " 0: Sair: \n",
            "Escolha a operação desejada: 5\n",
            "Essa opção não existe\n",
            " 1: Soma:\n",
            " 2: Subtração:\n",
            " 3: Multiplicação:\n",
            " 4: Divisão:\n",
            " 0: Sair: \n",
            "Escolha a operação desejada: 0\n"
          ]
        }
      ]
    }
  ]
}