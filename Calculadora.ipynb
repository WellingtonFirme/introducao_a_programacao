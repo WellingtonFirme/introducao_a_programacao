{
  "nbformat": 4,
  "nbformat_minor": 0,
  "metadata": {
    "colab": {
      "provenance": [],
      "authorship_tag": "ABX9TyOYb1NUvnuPjQd2dPh6w3mB",
      "include_colab_link": true
    },
    "kernelspec": {
      "name": "python3",
      "display_name": "Python 3"
    },
    "language_info": {
      "name": "python"
    }
  },
  "cells": [
    {
      "cell_type": "markdown",
      "metadata": {
        "id": "view-in-github",
        "colab_type": "text"
      },
      "source": [
        "<a href=\"https://colab.research.google.com/github/WellingtonFirme/introducao_a_programacao/blob/main/Calculadora.ipynb\" target=\"_parent\"><img src=\"https://colab.research.google.com/assets/colab-badge.svg\" alt=\"Open In Colab\"/></a>"
      ]
    },
    {
      "cell_type": "markdown",
      "source": [
        "Faça uma função calculadora de dois números com três parâmetros: os dois primeiros serão os números da operação e o terceiro será a entrada que definirá a operação a ser executada. Considera a seguinte definição:\n",
        "1. Soma\n",
        "2. Subtração\n",
        "3. Multiplicação\n",
        "4. Divisão\n",
        "\n",
        "Caso seja inserido um número de operação que não exista, o resultado deverá ser 0."
      ],
      "metadata": {
        "id": "_ZJDyeAjidTg"
      }
    },
    {
      "cell_type": "code",
      "source": [
        "# Calculadora\n",
        "# 1. Soma\n",
        "# 2. Subtração\n",
        "# 3. Multiplicação\n",
        "# 4. Divisão\n",
        "def calculadora(num1, num2, operacao):\n",
        "    if operacao == 1:\n",
        "        resultado = num1 + num2\n",
        "    elif operacao == 2:\n",
        "        resultado = num1 - num2\n",
        "    elif operacao == 3:\n",
        "        resultado = num1 * num2\n",
        "    elif operacao == 4:\n",
        "        resultado = num1 / num2\n",
        "    else:\n",
        "        resultado = 0\n",
        "    return resultado\n",
        "\n",
        "# Exemplos de uso:\n",
        "resultado = calculadora(5, 3, 1)  # Soma\n",
        "print(\"Resultado da soma:\", resultado)\n",
        "\n",
        "resultado = calculadora(10, 4, 2)  # Subtração\n",
        "print(\"Resultado da subtração:\", resultado)\n",
        "\n",
        "resultado = calculadora(6, 2, 3)  # Multiplicação\n",
        "print(\"Resultado da multiplicação:\", resultado)\n",
        "\n",
        "resultado = calculadora(8, 2, 4)  # Divisão\n",
        "print(\"Resultado da divisão:\", resultado)\n",
        "\n",
        "\n",
        "\n"
      ],
      "metadata": {
        "colab": {
          "base_uri": "https://localhost:8080/"
        },
        "id": "y_hScdzBhxSM",
        "outputId": "84a82d17-20a2-4e4a-c564-c37e78f6472b"
      },
      "execution_count": 9,
      "outputs": [
        {
          "output_type": "stream",
          "name": "stdout",
          "text": [
            "Resultado da soma: 8\n",
            "Resultado da subtração: 6\n",
            "Resultado da multiplicação: 12\n",
            "Resultado da divisão: 4.0\n"
          ]
        }
      ]
    }
  ]
}