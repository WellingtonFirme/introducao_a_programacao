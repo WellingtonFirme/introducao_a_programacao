{
  "nbformat": 4,
  "nbformat_minor": 0,
  "metadata": {
    "colab": {
      "provenance": [],
      "authorship_tag": "ABX9TyPJJaoG4TB+UJWZjLmTdoP+",
      "include_colab_link": true
    },
    "kernelspec": {
      "name": "python3",
      "display_name": "Python 3"
    },
    "language_info": {
      "name": "python"
    }
  },
  "cells": [
    {
      "cell_type": "markdown",
      "metadata": {
        "id": "view-in-github",
        "colab_type": "text"
      },
      "source": [
        "<a href=\"https://colab.research.google.com/github/WellingtonFirme/introducao_a_programacao/blob/main/NomeIdade.ipynb\" target=\"_parent\"><img src=\"https://colab.research.google.com/assets/colab-badge.svg\" alt=\"Open In Colab\"/></a>"
      ]
    },
    {
      "cell_type": "markdown",
      "source": [
        "Desenvolva um programa que recebe do usuário nome completo e ano de nascimento que seja entre 1922 e 2021.\n",
        "A partir dessas informações, o sistema mostrará o nome do usuário e a idade que completou, ou completará, no ano atual (2022).\n",
        "\n",
        "Caso o usuário não digite um número ou apareça um inválido no campo do ano, o sistema informará o erro e continuará perguntando até que um valor correto seja preenchido."
      ],
      "metadata": {
        "id": "edKYTSZcOgE6"
      }
    },
    {
      "cell_type": "code",
      "execution_count": 7,
      "metadata": {
        "colab": {
          "base_uri": "https://localhost:8080/"
        },
        "id": "51l9tKsaOeE2",
        "outputId": "e7cce574-d8b0-4d68-c438-d44028838401"
      },
      "outputs": [
        {
          "output_type": "stream",
          "name": "stdout",
          "text": [
            "Digite seu nome completo: Wellington Henrique Firme\n",
            "Digite seu ano de nascimento (entre 1922 e 2021): 1998\n",
            "Olá, Wellington Henrique Firme! Você tem 25 anos.\n"
          ]
        }
      ],
      "source": [
        "import datetime\n",
        "\n",
        "def get_user_info():\n",
        "    while True:\n",
        "        name = input(\"Digite seu nome completo: \")\n",
        "        birth_year = input(\"Digite seu ano de nascimento (entre 1922 e 2021): \")\n",
        "        try:\n",
        "            birth_year = int(birth_year)\n",
        "            if birth_year < 1922 or birth_year > 2021:\n",
        "                raise ValueError\n",
        "            break\n",
        "        except ValueError:\n",
        "            print(\"Ano inválido. Tente novamente.\")\n",
        "    return name, birth_year\n",
        "\n",
        "def calculate_age(birth_year):\n",
        "    current_year = datetime.datetime.now().year\n",
        "    age = current_year - birth_year\n",
        "    return age\n",
        "\n",
        "def main():\n",
        "    name, birth_year = get_user_info()\n",
        "    age = calculate_age(birth_year)\n",
        "    print(f\"Olá, {name}! Você tem {age} anos.\")\n",
        "\n",
        "if __name__ == \"__main__\":\n",
        "    main()\n"
      ]
    }
  ]
}